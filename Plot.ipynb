{
 "cells": [
  {
   "cell_type": "code",
   "execution_count": 1,
   "metadata": {
    "collapsed": false
   },
   "outputs": [],
   "source": [
    "#import cloud.serialization.cloudpickle as pickle\n",
    "import pickle\n",
    "import numpy as np\n",
    "import matplotlib.pyplot as plt"
   ]
  },
  {
   "cell_type": "markdown",
   "metadata": {},
   "source": [
    "# Arange the counts into sequenced/unsequenced piles for each phylum/ order"
   ]
  },
  {
   "cell_type": "code",
   "execution_count": 4,
   "metadata": {
    "collapsed": false
   },
   "outputs": [],
   "source": [
    "# count sequenced and unsequenced for each phylum\n",
    "\n",
    "# get the search results\n",
    "pickle_file_name = 'results/coi_record_counts.pkl'\n",
    "pickle_handle = open(pickle_file_name, 'rb')\n",
    "#count_matches = pickle.pickle.load(pickle_handle)\n",
    "count_matches = pickle.load(pickle_handle)\n",
    "\n",
    "# get_reversed_taxonomy\n",
    "pickle_file_name = 'data/reverse_taxonomy.pkl'\n",
    "pickle_handle = open(pickle_file_name, 'rb')\n",
    "#reversed_taxonomy = pickle.pickle.load(pickle_handle)\n",
    "reversed_taxonomy = pickle.load(pickle_handle)\n",
    "\n",
    "# count sequenced and unsequenced for each phylum\n",
    "per_phylum = {}\n",
    "\n",
    "for sp in count_matches:\n",
    "    if sp in reversed_taxonomy.keys():\n",
    "        phylum = reversed_taxonomy[sp][0]\n",
    "        if not phylum in per_phylum.keys():\n",
    "            per_phylum[phylum] = [0,0] # sequenced, unsequenced\n",
    "        if count_matches[sp][0] == 0:\n",
    "            per_phylum[phylum][1] += 1\n",
    "        else:\n",
    "            per_phylum[phylum][0] += 1\n",
    "           "
   ]
  },
  {
   "cell_type": "markdown",
   "metadata": {},
   "source": [
    "# Percent of total sequenced"
   ]
  },
  {
   "cell_type": "code",
   "execution_count": 5,
   "metadata": {
    "collapsed": false
   },
   "outputs": [
    {
     "name": "stdout",
     "output_type": "stream",
     "text": [
      "34.3976777939\n"
     ]
    }
   ],
   "source": [
    "sum_sequenced = sum([i[1][0] for i in per_phylum.items()])\n",
    "sum_unsequenced = sum([i[1][1] for i in per_phylum.items()])\n",
    "print 100*(sum_sequenced/float(sum_unsequenced+sum_sequenced))"
   ]
  },
  {
   "cell_type": "markdown",
   "metadata": {},
   "source": [
    "# Histogram"
   ]
  },
  {
   "cell_type": "code",
   "execution_count": 6,
   "metadata": {
    "collapsed": false
   },
   "outputs": [],
   "source": [
    "all_sequenced = [[100*(i[1][0]/float(sum(i[1]))) for i in per_phylum.items()]]"
   ]
  },
  {
   "cell_type": "code",
   "execution_count": 7,
   "metadata": {
    "collapsed": false
   },
   "outputs": [],
   "source": [
    "fig, ax = plt.subplots()\n",
    "\n",
    "ax.hist(all_sequenced, bins=30, color='slateblue')\n",
    "plt.tick_params(axis='both', which='major', labelsize=25)\n",
    "ax.set_ylabel('# Taxonomic Groups', fontsize=40)\n",
    "ax.set_xlabel('% Sequenced Species', fontsize=40)\n",
    "plt.xlim([0,100])\n",
    "\n",
    "\n",
    "fig = plt.gcf()\n",
    "\n",
    "fig.set_size_inches(20,13)    \n",
    "fig.savefig('results/histogram.png')"
   ]
  },
  {
   "cell_type": "markdown",
   "metadata": {},
   "source": [
    "# Counts in Diptera"
   ]
  },
  {
   "cell_type": "code",
   "execution_count": 12,
   "metadata": {
    "collapsed": false
   },
   "outputs": [
    {
     "data": {
      "text/plain": [
       "[439, 1173]"
      ]
     },
     "execution_count": 12,
     "metadata": {},
     "output_type": "execute_result"
    }
   ],
   "source": [
    "# See what to expect\n",
    "per_phylum['Diptera']\n",
    "# sequenced, unsequenced"
   ]
  },
  {
   "cell_type": "markdown",
   "metadata": {},
   "source": [
    "# Plot"
   ]
  },
  {
   "cell_type": "code",
   "execution_count": 9,
   "metadata": {
    "collapsed": false
   },
   "outputs": [],
   "source": [
    "# Break it up for the figure\n",
    "sorted_per_phylum = sorted(per_phylum.items(), key= lambda j: sum(j[1]), reverse=True)\n",
    "labels = [i[0] for i in sorted_per_phylum]\n",
    "sequenced = [i[1][0] for i in sorted_per_phylum]\n",
    "unsequenced = [i[1][1] for i in sorted_per_phylum]"
   ]
  },
  {
   "cell_type": "code",
   "execution_count": 10,
   "metadata": {
    "collapsed": false
   },
   "outputs": [],
   "source": [
    "# Plot\n",
    "\n",
    "N = len(labels)\n",
    "\n",
    "ind = np.arange(N)    \n",
    "width = 0.40       \n",
    "\n",
    "fig, ax = plt.subplots()\n",
    "\n",
    "bars = ax.bar(ind, sequenced, width, color='black')\n",
    "b = sequenced\n",
    "for br in bars:\n",
    "    br.set_label('sequenced species')\n",
    "                 \n",
    "bars = ax.bar(ind, unsequenced, width, bottom=b, color='white')\n",
    "for br in bars:\n",
    "    br.set_label('unsequenced species')\n",
    "\n",
    "plt.xticks(ind+width/2., labels, rotation='vertical')\n",
    "handles, labels = ax.get_legend_handles_labels()\n",
    "ax.legend(handles[0::N], labels[0::N], loc='upper left', frameon=False)\n",
    "\n",
    "fig = plt.gcf()\n",
    "fig.set_size_inches(20,13)    \n",
    "fig.savefig('results/barplot.png')\n"
   ]
  },
  {
   "cell_type": "markdown",
   "metadata": {},
   "source": [
    "# Exclude Diptera"
   ]
  },
  {
   "cell_type": "code",
   "execution_count": 13,
   "metadata": {
    "collapsed": false
   },
   "outputs": [],
   "source": [
    "labels = [i[0] for i in sorted_per_phylum if (not i[0] == 'Diptera' and not sum(i[1])<10)]\n",
    "sequenced = [i[1][0] for i in sorted_per_phylum if (not i[0] == 'Diptera' and not sum(i[1])<10)]\n",
    "unsequenced = [i[1][1] for i in sorted_per_phylum if (not i[0] == 'Diptera' and not sum(i[1])<10)]\n",
    "\n",
    "\n",
    "\n",
    "N = len(labels)\n",
    "\n",
    "ind = np.arange(N) \n",
    "width = 0.40     \n",
    "\n",
    "fig, ax = plt.subplots()\n",
    "\n",
    "bars = ax.bar(ind, sequenced, width, color='red')\n",
    "b = sequenced\n",
    "for br in bars:\n",
    "    br.set_label('sequenced species')\n",
    "                 \n",
    "bars = ax.bar(ind, unsequenced, width, bottom=b, color='gray')\n",
    "for br in bars:\n",
    "    br.set_label('unsequenced species')\n",
    "\n",
    "plt.xticks(ind+width/2., labels, rotation=45, rotation_mode='anchor', ha='right')\n",
    "plt.tick_params(axis='both', which='major', labelsize=25)\n",
    "#handles, labels = ax.get_legend_handles_labels()\n",
    "#ax.legend(handles[0::N], labels[0::N], loc='upper right', frameon=False)\n",
    "ax.set_ylabel('Species', fontsize=40)\n",
    "\n",
    "fig = plt.gcf()\n",
    "plt.gcf().subplots_adjust(bottom=0.17)\n",
    "\n",
    "fig.set_size_inches(20,13)    \n",
    "fig.savefig('results/barplot_no_diptera.png')"
   ]
  },
  {
   "cell_type": "markdown",
   "metadata": {},
   "source": [
    "# Groups excluded form the second bar plot. They have less then 10 species in the catalogue"
   ]
  },
  {
   "cell_type": "code",
   "execution_count": 14,
   "metadata": {
    "collapsed": false
   },
   "outputs": [
    {
     "name": "stdout",
     "output_type": "stream",
     "text": [
      "Lepidoptera\n",
      "Neuroptera\n",
      "Araneae\n",
      "Megaloptera\n",
      "Mysidacea\n",
      "Notostraca\n",
      "Chilopoda\n",
      "Polychaeta\n",
      "Porifera\n",
      "Coelenterata\n",
      "Branchiura\n",
      "Nemertea\n",
      "Aphanoneura\n",
      "Isopoda\n",
      "Diptera\n",
      "Anostraca\n",
      "Branchiobdellida\n",
      "Nematomorpha\n",
      "Bathynellacea\n",
      "Oribatei\n"
     ]
    }
   ],
   "source": [
    "for key in per_phylum:\n",
    "    if not key in labels:\n",
    "        print key"
   ]
  },
  {
   "cell_type": "code",
   "execution_count": null,
   "metadata": {
    "collapsed": false
   },
   "outputs": [],
   "source": []
  }
 ],
 "metadata": {
  "kernelspec": {
   "display_name": "Python 2",
   "language": "python",
   "name": "python2"
  },
  "language_info": {
   "codemirror_mode": {
    "name": "ipython",
    "version": 2
   },
   "file_extension": ".py",
   "mimetype": "text/x-python",
   "name": "python",
   "nbconvert_exporter": "python",
   "pygments_lexer": "ipython2",
   "version": "2.7.6"
  }
 },
 "nbformat": 4,
 "nbformat_minor": 0
}
