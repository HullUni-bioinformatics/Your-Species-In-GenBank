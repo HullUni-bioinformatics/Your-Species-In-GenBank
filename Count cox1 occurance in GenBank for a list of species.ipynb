{
 "cells": [
  {
   "cell_type": "code",
   "execution_count": 3,
   "metadata": {
    "collapsed": false
   },
   "outputs": [],
   "source": [
    "import pandas as pd\n",
    "import cloud.serialization.cloudpickle as pickle"
   ]
  },
  {
   "cell_type": "markdown",
   "metadata": {},
   "source": [
    "# Read the species names"
   ]
  },
  {
   "cell_type": "code",
   "execution_count": 4,
   "metadata": {
    "collapsed": false
   },
   "outputs": [],
   "source": [
    "# Put the names into dataframe\n",
    "names = pd.read_table('data/CEH_taxa.txt')\n",
    "# tab delimited, has header line, its content is unimportant, one line per species\n",
    "\n",
    "# Some of the names are of the form \"genus (subgenus/superspecies) species\"\n",
    "# So, the next sections makes the alternatives dictionary \n",
    "# where the full names are keys, \"genus species\" is 'binom'\n",
    "# and \"subgenus/superspecies species\" is 'alt_binom'\n",
    "# This script will also work is all the names are plain binomials\n",
    "\n",
    "alternatives = {}\n",
    "\n",
    "for row in names.iterrows():\n",
    "    \n",
    "    # original name is the name as appears in the table\n",
    "    original_name = \"%s %s\"%(row[1][0], row[1][1])\n",
    "    \n",
    "    # genus is the first name in the genus field ie without the one in brackets if exists\n",
    "    genus = row[1][0].split(' (')[0]\n",
    "    \n",
    "    # alt_genus is the braced name in the genus field, if exists\n",
    "    alt_genus = None\n",
    "    if len(row[1][0].split(' (')) > 1:\n",
    "        alt_genus = row[1][0].split(' (')[1].split(')')[0]\n",
    "        \n",
    "    # species is the species field\n",
    "    species = row[1][1]\n",
    "    \n",
    "    # binom is genus+species\n",
    "    binom = \"%s %s\"%(genus, species)\n",
    "    \n",
    "    #alt_binom is alt_genus+species\n",
    "    alt_binom = None\n",
    "    if alt_genus:\n",
    "        alt_binom = \"%s %s\"%(alt_genus, species)\n",
    "\n",
    "        \n",
    "    #arrange all the possible combinations under a single key, the original full name\n",
    "    alternatives[original_name]={'binom': binom,\n",
    "                                 'alt_binom': alt_binom}"
   ]
  },
  {
   "cell_type": "markdown",
   "metadata": {},
   "source": [
    "# Count cox1 records in genebank"
   ]
  },
  {
   "cell_type": "code",
   "execution_count": 9,
   "metadata": {
    "collapsed": false,
    "scrolled": true
   },
   "outputs": [
    {
     "name": "stdout",
     "output_type": "stream",
     "text": [
      ".\n",
      ".\n",
      ".\n",
      ".\n",
      ".\n",
      ".\n",
      ".\n",
      ".\n",
      ".\n",
      ".\n",
      ".\n",
      ".\n",
      ".\n",
      ".\n",
      ".\n",
      ".\n",
      ".\n",
      ".\n",
      ".\n",
      ".\n",
      ".\n",
      ".\n",
      ".\n",
      ".\n",
      ".\n",
      ".\n",
      ".\n",
      ".\n",
      ".\n",
      ".\n",
      ".\n",
      ".\n",
      ".\n",
      ".\n",
      ".\n",
      ".\n",
      ".\n",
      ".\n",
      ".\n",
      ".\n",
      ".\n",
      ".\n",
      ".\n"
     ]
    }
   ],
   "source": [
    "from Bio import Entrez\n",
    "\n",
    "# If you want to search other genes, see dependencies section below\n",
    "\n",
    "\n",
    "count_matches = {}\n",
    "j = 0\n",
    "\n",
    "results = open('results/coi_record_counts.txt','wt')\n",
    "\n",
    "for original_name in alternatives.keys():\n",
    "    if j%100 == 0:\n",
    "        print '.'\n",
    "    j += 1\n",
    "    # search using:\n",
    "    \n",
    "    # (original name [orgn] OR binom [orgn] OR alt_binom [orgn])\n",
    "    # AND\n",
    "    # (COX1 [GENE] OR COX1 [PROT] OR coi [GENE] OR coi [PROT] OR ...)\n",
    "    \n",
    "    # See above definitions of original name, binom, alt_binom\n",
    "    # See complete list of cox1 synonyms in the Dependencies section below\n",
    "\n",
    "    result = search_genbank(original_name, alternatives[original_name])\n",
    "    count_matches[original_name] = result\n",
    "    results.write(\"%s\\t%i\\t%s\\n\"%(original_name, result[0], result[1]))\n",
    "\n",
    "            \n",
    "results.close()\n",
    "\n",
    "# The stdout is just progress. One dot per 100 species searched"
   ]
  },
  {
   "cell_type": "code",
   "execution_count": 10,
   "metadata": {
    "collapsed": false
   },
   "outputs": [],
   "source": [
    "# Save a pickle file of the counts\n",
    "\n",
    "pickle_file_name = 'results/coi_record_counts.pkl'\n",
    "output = open(pickle_file_name,'wb')\n",
    "pickle.dump(count_matches, output)\n",
    "output.close()"
   ]
  },
  {
   "cell_type": "markdown",
   "metadata": {},
   "source": [
    "# Dependencies"
   ]
  },
  {
   "cell_type": "code",
   "execution_count": 1,
   "metadata": {
    "collapsed": false
   },
   "outputs": [],
   "source": [
    "# orig == The original name\n",
    "# bin == binom\n",
    "# alt == alt_binom\n",
    "# See first cell for expelnation on 'original name', 'binom' and 'alt_binom'\n",
    "\n",
    "def search_genbank(orig, names_dict, email=\"your email here\",\n",
    "                   use_orig=True, use_bin=True, use_alt=True,\n",
    "                   search_gene=True, search_product=True, search_all=False):\n",
    "    \n",
    "    from Bio import Entrez\n",
    "\n",
    "    # these are coi synonyms. If you want to count other genes\n",
    "    # this is the place to add them.\n",
    "    cox1_synonyms = ['MT-CO1','cox1','cox 1','COX1','COX 1','COI','CO I','coi','COXi', 'COX i',\n",
    "                     'COXI','COX I', 'co i','coI','co I','cox I','coxI',\n",
    "                     'cytochome oxidase 1','Cytochome oxidase 1','Cytochome Oxidase 1',\n",
    "                     'cytochome oxidase I','Cytochome oxidase I', 'Cytochome Oxidase I',\n",
    "                     'cytochome oxidase subunit 1','Cytochome oxidase subunit 1','Cytochome Oxidase subunit 1',\n",
    "                     'Cytochome Oxidase Subunit 1',\n",
    "                     'cytochome oxidase subunit I','Cytochome oxidase subunit I','Cytochome Oxidase subunit I',\n",
    "                     'Cytochome Oxidase Subunit I',\n",
    "                     'cytochrome c oxidase subunit I', 'Cytochrome c oxidase subunit I', 'Cytochrome C oxidase subunit I',\n",
    "                     'Cytochrome C Oxidase subunit I', 'Cytochrome C Oxidase Subunit I',\n",
    "                     'cytochrome c oxidase subunit 1', 'Cytochrome c oxidase subunit 1', 'Cytochrome C oxidase subunit 1',\n",
    "                     'Cytochrome C Oxidase subunit 1', 'Cytochrome C Oxidase Subunit 1']  \n",
    "    \n",
    "    \n",
    "    ## This will write the search phrase\n",
    "    search_phrase = '('\n",
    "    \n",
    "    # First all the possible species names\n",
    "    if use_orig:\n",
    "        search_phrase += '%s [orgn] '%orig\n",
    "    if len(search_phrase) > 1 and not search_phrase[-3:] == 'OR ':\n",
    "        search_phrase += 'OR '\n",
    "    if use_bin:\n",
    "        search_phrase += '%s [orgn] '%names_dict['binom']\n",
    "    if len(search_phrase) > 1 and not search_phrase[-3:] == 'OR ':\n",
    "        search_phrase += 'OR '\n",
    "    if use_alt and names_dict['alt_binom']:\n",
    "        search_phrase += '%s [orgn] '%names_dict['alt_binom']\n",
    "    if len(search_phrase) > 1 and search_phrase[-3:] == 'OR ':\n",
    "        search_phrase = search_phrase[:-3]+') '\n",
    "    elif len(search_phrase) > 1:\n",
    "        search_phrase += ') '       \n",
    "    else:\n",
    "        raise RuntimeError('No species name passed')\n",
    "    \n",
    "\n",
    "    # Then all the cox1 synonyms (or your other genes)    \n",
    "    search_phrase += 'AND ('\n",
    "    \n",
    "    for syn in cox1_synonyms:\n",
    "        if search_all:\n",
    "            search_phrase += \"%s OR \"%syn\n",
    "        elif search_gene and search_product:\n",
    "            search_phrase += \"%s [GENE] OR %s [PROT] OR \"%(syn,syn)\n",
    "        elif search_gene:\n",
    "            search_phrase += \"%s [GENE] OR \"%syn\n",
    "        elif search_product:\n",
    "            search_phrase += \"%s [PROT] OR \"%syn\n",
    "        else:\n",
    "            raise RuntimeError('Must specify fields to search')\n",
    "            \n",
    "    search_phrase = search_phrase[:-3]+')'\n",
    "            \n",
    "    # This will query genbank\n",
    "    Entrez.email = email\n",
    "    handle = Entrez.esearch(db=\"nucleotide\", term=search_phrase)\n",
    "    record = Entrez.read(handle)\n",
    "    \n",
    "    # Returning the number of records and the search phrase\n",
    "    return [int(record['Count']), search_phrase]"
   ]
  },
  {
   "cell_type": "code",
   "execution_count": null,
   "metadata": {
    "collapsed": false
   },
   "outputs": [],
   "source": []
  }
 ],
 "metadata": {
  "kernelspec": {
   "display_name": "Python 2",
   "language": "python",
   "name": "python2"
  },
  "language_info": {
   "codemirror_mode": {
    "name": "ipython",
    "version": 2
   },
   "file_extension": ".py",
   "mimetype": "text/x-python",
   "name": "python",
   "nbconvert_exporter": "python",
   "pygments_lexer": "ipython2",
   "version": "2.7.6"
  }
 },
 "nbformat": 4,
 "nbformat_minor": 0
}
